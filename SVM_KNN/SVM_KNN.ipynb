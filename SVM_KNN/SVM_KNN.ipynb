{
 "cells": [
  {
   "cell_type": "markdown",
   "metadata": {},
   "source": [
    "# Handout #1 - Instanced Based Learning\n",
    "\n",
    "### Marcos Balle Sánchez   ID: 43213875A"
   ]
  },
  {
   "cell_type": "markdown",
   "metadata": {},
   "source": [
    "NOTA: En este notebook se ofrecen algunos comentarios en aquellas secciones donde es necesario algún tipo de justificación de algún paso o por algún error. Comentarios más generales sobre los diferentes pasos llevados a cabo pueden encontrarse en el documento facilitado para escribir el código fuente. "
   ]
  },
  {
   "cell_type": "markdown",
   "metadata": {},
   "source": [
    "Se cargan algunas librerías necesarias para el desarrollo de la práctica"
   ]
  },
  {
   "cell_type": "code",
   "execution_count": 429,
   "metadata": {},
   "outputs": [],
   "source": [
    "import numpy as np \n",
    "from matplotlib import pyplot as plt\n",
    "from qpsolvers import solve_qp\n",
    "from sklearn import svm"
   ]
  },
  {
   "cell_type": "markdown",
   "metadata": {},
   "source": [
    "Se definen dos funciones recurrentes en esta práctica"
   ]
  },
  {
   "cell_type": "code",
   "execution_count": 430,
   "metadata": {},
   "outputs": [],
   "source": [
    "def build_H(x,y):\n",
    "    H = np.zeros((y.shape[0], y.shape[0])) #NxN matrix, where N = number of examples\n",
    "    for i in range(y.shape[0]):\n",
    "        for j in range(y.shape[0]):\n",
    "            H[i,j] = y[i]*y[j]*x[i,].T.dot(x[j,])\n",
    "    \n",
    "    return H"
   ]
  },
  {
   "cell_type": "code",
   "execution_count": 431,
   "metadata": {},
   "outputs": [],
   "source": [
    "def build_H_wk(x, y, gamma, r, q):\n",
    "    H = np.zeros((y.shape[0], y.shape[0])) #NxN matrix, where N = number of examples\n",
    "    for i in range(y.shape[0]):\n",
    "        for j in range(y.shape[0]):\n",
    "            K = (gamma*x[i,].dot(x[j,]) +r)**q #Kernel\n",
    "            H[i,j] = y[i]*y[j]*K\n",
    "    \n",
    "    return H"
   ]
  },
  {
   "cell_type": "markdown",
   "metadata": {},
   "source": [
    "## Problema 1"
   ]
  },
  {
   "cell_type": "markdown",
   "metadata": {},
   "source": [
    "### Apartado a)"
   ]
  },
  {
   "cell_type": "markdown",
   "metadata": {},
   "source": [
    "Se carga el dataset"
   ]
  },
  {
   "cell_type": "code",
   "execution_count": 432,
   "metadata": {},
   "outputs": [],
   "source": [
    "group = '02'\n",
    "ds = 1\n",
    "path = './in/datasets02/'\n",
    "data = np.loadtxt(path+'ds'+group+str(ds)+'.txt')\n",
    "X = data[:,0:2]\n",
    "y = data[:,2:3] "
   ]
  },
  {
   "cell_type": "markdown",
   "metadata": {},
   "source": [
    "Se cambia la clase de 1 y 0  a 1 y -1"
   ]
  },
  {
   "cell_type": "code",
   "execution_count": 433,
   "metadata": {},
   "outputs": [],
   "source": [
    "for i in range (y.shape[0]):\n",
    "    if y[i] == 0:\n",
    "        y[i] = -1"
   ]
  },
  {
   "cell_type": "markdown",
   "metadata": {},
   "source": [
    "Se hallan las lamdas"
   ]
  },
  {
   "cell_type": "code",
   "execution_count": 434,
   "metadata": {},
   "outputs": [],
   "source": [
    "N = y.shape[0]\n",
    "y = y.reshape((N,))\n",
    "P = build_H(X,y)\n",
    "q = -np.ones((N,))\n",
    "G = -np.identity(N)\n",
    "h = np.zeros((N,))\n",
    "A = y.reshape((1,-1))\n",
    "b = np.zeros(1)\n",
    "\n",
    "lm = solve_qp(P, q, G, h, A, b, solver='cvxopt')"
   ]
  },
  {
   "cell_type": "code",
   "execution_count": 435,
   "metadata": {
    "scrolled": false
   },
   "outputs": [
    {
     "name": "stdout",
     "output_type": "stream",
     "text": [
      "[0.00000e+00 0.00000e+00 0.00000e+00 1.99963e-01 3.70000e-05 0.00000e+00\n",
      " 0.00000e+00 0.00000e+00 0.00000e+00 0.00000e+00 0.00000e+00 2.00000e-01\n",
      " 0.00000e+00 0.00000e+00 0.00000e+00 0.00000e+00]\n"
     ]
    }
   ],
   "source": [
    "lm = np.around(lm, decimals = 6)\n",
    "print(lm)"
   ]
  },
  {
   "cell_type": "markdown",
   "metadata": {},
   "source": [
    "Se ecnuentran los vectores de soporte"
   ]
  },
  {
   "cell_type": "code",
   "execution_count": 436,
   "metadata": {},
   "outputs": [
    {
     "name": "stdout",
     "output_type": "stream",
     "text": [
      "Suport vectors: [[ 2.11239089  0.73335172]\n",
      " [-0.64568745 -4.95813349]\n",
      " [-0.73335172  2.11239089]]\n"
     ]
    }
   ],
   "source": [
    "index_sv = lm != 0\n",
    "sv = X[index_sv]\n",
    "print('Suport vectors: ', sv, sep='')"
   ]
  },
  {
   "cell_type": "markdown",
   "metadata": {},
   "source": [
    "Se halla el vector normal y el intercepto del hiperplano, $\\omega$ y $\\omega_0$"
   ]
  },
  {
   "cell_type": "code",
   "execution_count": 437,
   "metadata": {},
   "outputs": [
    {
     "data": {
      "text/plain": [
       "array([-5.69045626e-01,  2.76020166e-01, -3.73071042e-04])"
      ]
     },
     "execution_count": 437,
     "metadata": {},
     "output_type": "execute_result"
    }
   ],
   "source": [
    "P = np.array([[1.,0.,0.],[0.,1.,0.],[0.,0.,0.]])\n",
    "q = np.zeros((3,))\n",
    "G = np.zeros((N,3))\n",
    "for i in range(0,N):\n",
    "    G[i,0] = -y[i]*X[i,0]\n",
    "    G[i,1] = -y[i]*X[i,1]\n",
    "    G[i,2] = -y[i]\n",
    "h = -np.ones((N,))\n",
    "\n",
    "w = solve_qp(P, q, G, h, solver='cvxopt')\n",
    "w"
   ]
  },
  {
   "cell_type": "markdown",
   "metadata": {},
   "source": [
    "### Apartado b)"
   ]
  },
  {
   "cell_type": "markdown",
   "metadata": {},
   "source": [
    "Se plotea las muestras de entreno, resaltando  los vectores de soporte, y el hiperplano. "
   ]
  },
  {
   "cell_type": "code",
   "execution_count": 438,
   "metadata": {},
   "outputs": [],
   "source": [
    "def hyperplane(w,x,plane):  #funcion para devolver los valores del hiperplano y los márgenes\n",
    "    y_val = np.zeros((x.shape[0],))\n",
    "    \n",
    "    if plane == 'hyper':\n",
    "        for i in range(x.shape[0]):\n",
    "            y_val[i] = (-w[0]/w[1])*x[i] + (-w[2]/w[1])\n",
    "    \n",
    "        return y_val\n",
    "    elif plane == 'upper':\n",
    "        for i in range(x.shape[0]):\n",
    "            y_val[i] = (-w[0]/w[1])*x[i] + (-w[2]/w[1]) + 1/w[1] # Margen superior\n",
    "    \n",
    "        return y_val\n",
    "    \n",
    "    elif plane == 'lower':\n",
    "        for i in range(x.shape[0]):\n",
    "            y_val[i] = (-w[0]/w[1])*x[i] + (-w[2]/w[1]) - 1/w[1] #Margen inferior\n",
    "    \n",
    "        return y_val\n",
    "    else:\n",
    "        return 0"
   ]
  },
  {
   "cell_type": "code",
   "execution_count": 439,
   "metadata": {
    "scrolled": true
   },
   "outputs": [
    {
     "data": {
      "image/png": "[encoded data removed]",
      "text/plain": [
       "<Figure size 432x288 with 1 Axes>"
      ]
     },
     "metadata": {
      "needs_background": "light"
     },
     "output_type": "display_data"
    }
   ],
   "source": [
    "points = np.linspace(X.min(), X.max(), num = 50)\n",
    "\n",
    "surf = hyperplane(w,points,'hyper')\n",
    "upper = hyperplane(w,points,'upper')\n",
    "low = hyperplane(w,points,'lower')\n",
    "\n",
    "plt.scatter(X[y==1,0], X[y==1,1], c='g', marker='x', label = '1')\n",
    "plt.scatter(X[y==-1,0], X[y==-1,1], c='r', marker='x', label = '-1')\n",
    "plt.scatter(sv[:,0],sv[:,1], s=100, facecolors='none', edgecolors='k')\n",
    "plt.plot(points,surf,c='k', linestyle='-')\n",
    "plt.plot(points, upper, c='k',linestyle='--')\n",
    "plt.plot(points, low, c='k',linestyle='--')\n",
    "plt.xlabel('X1')\n",
    "plt.ylabel('X2')\n",
    "plt.title('Decision function using qpsolvers')\n",
    "plt.legend();"
   ]
  },
  {
   "cell_type": "code",
   "execution_count": 440,
   "metadata": {
    "scrolled": true
   },
   "outputs": [
    {
     "data": {
      "image/png": "[encoded data removed]",
      "text/plain": [
       "<Figure size 432x288 with 2 Axes>"
      ]
     },
     "metadata": {
      "needs_background": "light"
     },
     "output_type": "display_data"
    }
   ],
   "source": [
    "xx = np.linspace(-7, 7, num = 50)\n",
    "yy = np.linspace(-15, 15, num = 50)\n",
    "YY, XX = np.meshgrid(yy, xx)\n",
    "\n",
    "Z = np.zeros((50 * 50,1)) \n",
    "k=0\n",
    "for x1 in xx:\n",
    "    for x2 in yy:\n",
    "        Z[k] = x1*w[0] + x2*w[1] + w[2]\n",
    "            \n",
    "        k += 1\n",
    "        \n",
    "C = np.where(Z >= 0, 1, 0)\n",
    "plt.figure()\n",
    "plt.imshow(C.reshape(XX.shape), origin='lower', extent=(-6, 6, -10, 10), cmap='RdYlGn')\n",
    "plt.colorbar()\n",
    "plt.scatter(X[y==1,0], X[y==1,1], c='k', marker='x', label = '1')\n",
    "plt.scatter(X[y==-1,0], X[y==-1,1], c='w', marker='x', label = '-1')\n",
    "plt.xlabel('x1')\n",
    "plt.ylabel('x2')\n",
    "plt.title('Classification map in the original space using qpsolvers')\n",
    "\n",
    "plt.show(block=False)"
   ]
  },
  {
   "cell_type": "markdown",
   "metadata": {},
   "source": [
    "### Apartado c)"
   ]
  },
  {
   "cell_type": "code",
   "execution_count": 441,
   "metadata": {},
   "outputs": [],
   "source": [
    "# Se inicializa el objeto SVC y se hallan los vectores de soporte y parámetros del hiperplano\n",
    "clf = svm.SVC(C = 1e16, kernel = 'linear')\n",
    "clf.fit(X, y)\n",
    "sv = clf.support_vectors_\n",
    "w = clf.coef_.flatten()\n",
    "w0 = clf.intercept_.flatten()"
   ]
  },
  {
   "cell_type": "code",
   "execution_count": 442,
   "metadata": {
    "scrolled": true
   },
   "outputs": [
    {
     "data": {
      "text/plain": [
       "array([[ 2.11239089,  0.73335172],\n",
       "       [-0.64568745, -4.95813349],\n",
       "       [-0.73335172,  2.11239089]])"
      ]
     },
     "execution_count": 442,
     "metadata": {},
     "output_type": "execute_result"
    }
   ],
   "source": [
    "sv"
   ]
  },
  {
   "cell_type": "code",
   "execution_count": 443,
   "metadata": {},
   "outputs": [
    {
     "data": {
      "text/plain": [
       "(array([-0.5690731 ,  0.27580877]), array([-1.77777778e-05]))"
      ]
     },
     "execution_count": 443,
     "metadata": {},
     "output_type": "execute_result"
    }
   ],
   "source": [
    "w, w0"
   ]
  },
  {
   "cell_type": "code",
   "execution_count": 444,
   "metadata": {},
   "outputs": [
    {
     "data": {
      "image/png": "[encoded data removed]",
      "text/plain": [
       "<Figure size 432x288 with 1 Axes>"
      ]
     },
     "metadata": {
      "needs_background": "light"
     },
     "output_type": "display_data"
    }
   ],
   "source": [
    "w = np.concatenate((w,w0))\n",
    "\n",
    "#se reutiliza points de la anterior ejecucion\n",
    "surf = hyperplane(w,points,'hyper')\n",
    "upper = hyperplane(w,points,'upper')\n",
    "low = hyperplane(w,points,'lower')\n",
    "\n",
    "plt.scatter(X[y==1,0], X[y==1,1], c='g', marker='x', label = '1')\n",
    "plt.scatter(X[y==-1,0], X[y==-1,1], c='r', marker='x', label = '-1')\n",
    "plt.scatter(sv[:,0],sv[:,1], s=100, facecolors='none', edgecolors='k')\n",
    "plt.plot(points,surf,c='k', linestyle='-')\n",
    "plt.plot(points, upper, c='k',linestyle='--')\n",
    "plt.plot(points, low, c='k',linestyle='--')\n",
    "plt.xlabel('X1')\n",
    "plt.ylabel('X2')\n",
    "plt.title('Decision function using skilearn')\n",
    "plt.legend();"
   ]
  },
  {
   "cell_type": "code",
   "execution_count": 445,
   "metadata": {},
   "outputs": [
    {
     "data": {
      "image/png": "[encoded data removed]",
      "text/plain": [
       "<Figure size 432x288 with 2 Axes>"
      ]
     },
     "metadata": {
      "needs_background": "light"
     },
     "output_type": "display_data"
    }
   ],
   "source": [
    "#se reutiliza xx e yy de la anterior ejecucion\n",
    "Z = np.zeros((50 * 50,1)) \n",
    "k=0\n",
    "for x1 in xx:\n",
    "    for x2 in yy:\n",
    "        Z[k] = x1*w[0] + x2*w[1] + w[2]\n",
    "            \n",
    "        k += 1\n",
    "        \n",
    "C = np.where(Z >= 0, 1, 0)\n",
    "plt.figure()\n",
    "plt.imshow(C.reshape(XX.shape), origin='lower', extent=(-6, 6, -10, 10), cmap='RdYlGn')\n",
    "plt.colorbar()\n",
    "plt.scatter(X[y==1,0], X[y==1,1], c='k', marker='x', label = '1')\n",
    "plt.scatter(X[y==-1,0], X[y==-1,1], c='w', marker='x', label = '-1')\n",
    "plt.xlabel('x1')\n",
    "plt.ylabel('x2')\n",
    "plt.title('Classification map in the original space using skilearn')\n",
    "plt.show(block=False)"
   ]
  },
  {
   "cell_type": "markdown",
   "metadata": {},
   "source": [
    "## Problema 2"
   ]
  },
  {
   "cell_type": "markdown",
   "metadata": {},
   "source": [
    "### Apartado a)"
   ]
  },
  {
   "cell_type": "markdown",
   "metadata": {},
   "source": [
    "#### 1"
   ]
  },
  {
   "cell_type": "code",
   "execution_count": 446,
   "metadata": {},
   "outputs": [],
   "source": [
    "def decision_func (points, x, w):\n",
    "    y_val = np.zeros((x.shape[0],))\n",
    "    \n",
    "    if plane == 'hyper':\n",
    "        for i in range(x.shape[0]):\n",
    "            y_val[i] = (-w[0]/w[1])*x[i] + (-w[2]/w[1])\n",
    "            \n",
    "    elif plane == 'upper':\n",
    "        for i in range(x.shape[0]):\n",
    "            y_val[i] = (-w[0]/w[1])*x[i] + (-w[2]/w[1]) + 1/w[1]\n",
    "    \n",
    "    elif plane == 'lower':\n",
    "        for i in range(x.shape[0]):\n",
    "            y_val[i] = (-w[0]/w[1])*x[i] + (-w[2]/w[1]) - 1/w[1]\n",
    "            \n",
    "    else:\n",
    "        return 0\n",
    "    \n",
    "    return y_val"
   ]
  },
  {
   "cell_type": "code",
   "execution_count": 447,
   "metadata": {},
   "outputs": [],
   "source": [
    "group = '02'\n",
    "ds = 2\n",
    "path = './in/datasets02/'\n",
    "data = np.loadtxt(path+'ds'+group+str(ds)+'.txt')\n",
    "X = data[:,0:2]\n",
    "y = data[:,2:3]"
   ]
  },
  {
   "cell_type": "code",
   "execution_count": 448,
   "metadata": {},
   "outputs": [],
   "source": [
    "for i in range (y.shape[0]):\n",
    "    if y[i] == 0:\n",
    "        y[i] = -1"
   ]
  },
  {
   "cell_type": "code",
   "execution_count": 449,
   "metadata": {},
   "outputs": [],
   "source": [
    "def build_H_wk(x, y):\n",
    "    H = np.zeros((y.shape[0], y.shape[0])) #NxN matrix, where N = number of examples\n",
    "    for i in range(y.shape[0]):\n",
    "        for j in range(y.shape[0]):\n",
    "            K = x[i,0]*x[i,1]*x[j,0]*x[j,1] + (x[i,0]**2)*(x[j,1]**2) + (x[i,1]**2)*(x[j,0]**2) + (x[i,0]**2)*(x[j,0]**2) + (x[i,1]**2)*(x[j,1]**2) #Kernel\n",
    "            H[i,j] = y[i]*y[j]*K\n",
    "    \n",
    "    return H"
   ]
  },
  {
   "cell_type": "code",
   "execution_count": 450,
   "metadata": {},
   "outputs": [],
   "source": [
    "def theta_transf(X): #transforma el vector de entrada al espacio de transformado\n",
    "    x_trans = np.zeros(X.shape)\n",
    "    i = 0\n",
    "    for x in X:\n",
    "        x_trans[i,0] = x[0]*x[1]\n",
    "        x_trans[i,1] = x[0]**2 + x[1]**2\n",
    "        i+=1\n",
    "        \n",
    "    return x_trans"
   ]
  },
  {
   "cell_type": "code",
   "execution_count": 451,
   "metadata": {},
   "outputs": [
    {
     "data": {
      "text/plain": [
       "array([9.30146294e-08, 8.77807868e-08, 1.03580345e-07, 8.84877636e-08,\n",
       "       1.82078625e-07, 1.08471257e-07, 8.88020296e-08, 8.38514795e-08,\n",
       "       1.36357421e-07, 1.37769383e-07, 1.65970727e-07, 2.24997965e-07,\n",
       "       1.41338237e-07, 1.33306846e-07, 3.27644190e+00, 6.07106592e-08,\n",
       "       1.39370892e-07, 7.87703988e+00, 3.19270391e-07, 7.83083814e-08,\n",
       "       1.44633206e-07, 7.81954559e-08, 1.02295205e-07, 2.92529116e-07,\n",
       "       7.84212914e-08, 4.60059901e+00, 1.05063939e-07, 5.66159488e-08,\n",
       "       8.84781496e-08, 1.18776288e-07, 9.11197053e-08, 9.27732143e-08])"
      ]
     },
     "execution_count": 451,
     "metadata": {},
     "output_type": "execute_result"
    }
   ],
   "source": [
    "N = y.shape[0]\n",
    "y = y.reshape((N,))\n",
    "\n",
    "P = build_H_wk(X, y)\n",
    "q = -np.ones((N,))\n",
    "G = -np.identity(N)\n",
    "h = np.zeros((N,))\n",
    "A = y.reshape((1,-1))\n",
    "b = np.zeros(1)\n",
    "\n",
    "lm = solve_qp(P, q, G, h, A, b, solver='cvxopt')\n",
    "lm"
   ]
  },
  {
   "cell_type": "code",
   "execution_count": 452,
   "metadata": {
    "scrolled": true
   },
   "outputs": [
    {
     "data": {
      "text/plain": [
       "array([[-0.66221133,  0.62586231],\n",
       "       [ 0.54581596, -0.2162225 ],\n",
       "       [-0.92638604, -0.03965909]])"
      ]
     },
     "execution_count": 452,
     "metadata": {},
     "output_type": "execute_result"
    }
   ],
   "source": [
    "index_sv = np.where(lm > 1e-05) # los indices encontrados son validos tanto para el espacio transformado como para el original\n",
    "sv = X[index_sv]\n",
    "sv"
   ]
  },
  {
   "cell_type": "markdown",
   "metadata": {},
   "source": [
    "#### 2"
   ]
  },
  {
   "cell_type": "code",
   "execution_count": 453,
   "metadata": {},
   "outputs": [
    {
     "data": {
      "text/plain": [
       "array([ 0.25927717, -3.96066434,  2.39571056])"
      ]
     },
     "execution_count": 453,
     "metadata": {},
     "output_type": "execute_result"
    }
   ],
   "source": [
    "X_trans = theta_transf(X)\n",
    "\n",
    "P = np.array([[1.,0.,0.],[0.,1.,0.],[0.,0.,0.]])\n",
    "q = np.zeros((3,))\n",
    "G = np.zeros((N,3))\n",
    "for i in range(0,N):\n",
    "    G[i,0] = -y[i]*X_trans[i,0]\n",
    "    G[i,1] = -y[i]*X_trans[i,1]\n",
    "    G[i,2] = -y[i]\n",
    "h = -np.ones((N,))\n",
    "w_trans = solve_qp(P, q, G, h, solver='cvxopt')\n",
    "w_trans"
   ]
  },
  {
   "cell_type": "markdown",
   "metadata": {},
   "source": [
    "SVM in transformed space : $g(\\theta(x)) = (w_{trans_1}, w_{trans_2})\\dot (\\theta(x_1), \\theta(x_2))^T + w_{trans_3}$\n",
    "\n",
    "SVM in original space: g(x) = $w_{trans_1}x_1x_2 + w_{trans_2}(x_1^2 + x_2^2) + w_{trans_3}$"
   ]
  },
  {
   "cell_type": "markdown",
   "metadata": {},
   "source": [
    "### Aparado b)"
   ]
  },
  {
   "cell_type": "markdown",
   "metadata": {},
   "source": [
    "#### 1"
   ]
  },
  {
   "cell_type": "code",
   "execution_count": 454,
   "metadata": {},
   "outputs": [
    {
     "data": {
      "image/png": "[encoded data removed]",
      "text/plain": [
       "<Figure size 432x288 with 1 Axes>"
      ]
     },
     "metadata": {
      "needs_background": "light"
     },
     "output_type": "display_data"
    }
   ],
   "source": [
    "sv_trans = X_trans[index_sv]\n",
    "points = np.linspace(X_trans.min(), X_trans.max(), num = 50)\n",
    "\n",
    "surf = hyperplane(w_trans,points,'hyper')\n",
    "upper = hyperplane(w_trans,points,'upper')\n",
    "low = hyperplane(w_trans,points,'lower')\n",
    "\n",
    "plt.scatter(X_trans[y==1,0], X_trans[y==1,1], c='g', marker='x', label = '1')\n",
    "plt.scatter(X_trans[y==-1,0], X_trans[y==-1,1], c='r', marker='x', label = '-1')\n",
    "plt.scatter(sv_trans[:,0],sv_trans[:,1], s=100, facecolors='none', edgecolors='k')\n",
    "plt.plot(points,surf,c='k', linestyle='-')\n",
    "plt.plot(points, upper, c='k',linestyle='--')\n",
    "plt.plot(points, low, c='k',linestyle='--')\n",
    "plt.xlabel('$x1 \\dot x2$')\n",
    "plt.ylabel('$x1^2 + x2^2$')\n",
    "plt.title('Decision function in transformed space')\n",
    "plt.legend();"
   ]
  },
  {
   "cell_type": "markdown",
   "metadata": {},
   "source": [
    "#### 2"
   ]
  },
  {
   "cell_type": "code",
   "execution_count": 455,
   "metadata": {
    "scrolled": true
   },
   "outputs": [
    {
     "data": {
      "image/png": "[encoded data removed]",
      "text/plain": [
       "<Figure size 432x288 with 1 Axes>"
      ]
     },
     "metadata": {
      "needs_background": "light"
     },
     "output_type": "display_data"
    }
   ],
   "source": [
    "xx = np.linspace(-1.5, 1.5, num = 30)\n",
    "yy = np.linspace(-1.5, 1.5, num = 30)\n",
    "YY, XX = np.meshgrid(yy, xx)\n",
    "Z = np.zeros((30 * 30,1))\n",
    "k=0\n",
    "for x1 in xx:\n",
    "    for x2 in yy:\n",
    "        Z[k] = w_trans[0]*x1*x2 + w_trans[1]*(x1**2 + x2**2) + w_trans[2]\n",
    "        k += 1\n",
    "\n",
    "\n",
    "plt.figure()\n",
    "ax = plt.gca()\n",
    "ax.contour(XX,YY,Z.reshape(XX.shape),colors='k',levels=[-1, 0, 1],alpha=0.5,linestyles=['--', '-', '--'])\n",
    "plt.scatter(X[y==1,0], X[y==1,1], c='g', marker='x', label = '1')\n",
    "plt.scatter(X[y==-1,0], X[y==-1,1], c='r', marker='x', label = '-1')\n",
    "plt.scatter(sv[:,0],sv[:,1], s=100, facecolors='none', edgecolors='k')\n",
    "plt.xlabel('x1')\n",
    "plt.ylabel('x2')\n",
    "plt.axis('equal')\n",
    "plt.title('Decision function in original space')\n",
    "plt.legend()\n",
    "plt.show(block=False) \n"
   ]
  },
  {
   "cell_type": "markdown",
   "metadata": {},
   "source": [
    "#### 3"
   ]
  },
  {
   "cell_type": "code",
   "execution_count": 456,
   "metadata": {
    "scrolled": false
   },
   "outputs": [
    {
     "data": {
      "image/png": "[encoded data removed]",
      "text/plain": [
       "<Figure size 432x288 with 2 Axes>"
      ]
     },
     "metadata": {
      "needs_background": "light"
     },
     "output_type": "display_data"
    }
   ],
   "source": [
    "C = np.where(Z >= 0, 1, 0)\n",
    "plt.figure()\n",
    "plt.imshow(C.reshape(XX.shape), origin='lower', extent=(-1.5, 1.5, -1.5, 1.5), cmap='RdYlGn')\n",
    "plt.colorbar()\n",
    "plt.scatter(X[y==1,0], X[y==1,1], c='k', marker='x')\n",
    "plt.scatter(X[y==-1,0], X[y==-1,1], c='w', marker='x')\n",
    "plt.xlabel('x1')\n",
    "plt.ylabel('x2')\n",
    "plt.axis('equal')\n",
    "plt.title('Classification map in the original space')\n",
    "plt.show(block=False) "
   ]
  },
  {
   "cell_type": "markdown",
   "metadata": {},
   "source": [
    "### Apartado c)"
   ]
  },
  {
   "cell_type": "code",
   "execution_count": 457,
   "metadata": {},
   "outputs": [],
   "source": [
    "def my_kernel (X,Z):\n",
    "    K = np.zeros((X.shape[0], Z.shape[0]))\n",
    "    \n",
    "    for i in range(X.shape[0]):\n",
    "        for j in range (Z.shape[0]):\n",
    "            K[i,j] = X[i,0]*X[i,1]*Z[j,0]*Z[j,1] + (X[i,0]**2)*(Z[j,0]**2) + (X[i,0]**2)*(Z[j,1]**2) + (X[i,1]**2)*(Z[j,0]**2) + (X[i,1]**2)*(Z[j,1]**2) #Kernel matrix\n",
    "            \n",
    "    return K"
   ]
  },
  {
   "cell_type": "code",
   "execution_count": 458,
   "metadata": {},
   "outputs": [
    {
     "data": {
      "text/plain": [
       "SVC(C=1e+16, kernel=<function my_kernel at 0x7fdb3e713700>)"
      ]
     },
     "execution_count": 458,
     "metadata": {},
     "output_type": "execute_result"
    }
   ],
   "source": [
    "clf_p2c = svm.SVC(C = 1e16, kernel = my_kernel)\n",
    "clf_p2c.fit(X, y)"
   ]
  },
  {
   "cell_type": "code",
   "execution_count": 459,
   "metadata": {
    "scrolled": true
   },
   "outputs": [
    {
     "data": {
      "text/plain": [
       "array([[-0.66221133,  0.62586231],\n",
       "       [-0.92638604, -0.03965909],\n",
       "       [ 0.54581596, -0.2162225 ]])"
      ]
     },
     "execution_count": 459,
     "metadata": {},
     "output_type": "execute_result"
    }
   ],
   "source": [
    "index_sv_orig = clf_p2c.support_\n",
    "sv_orig = X[index_sv_orig]\n",
    "sv_orig #coinciden con los calculados previamente"
   ]
  },
  {
   "cell_type": "markdown",
   "metadata": {},
   "source": [
    "Ya que cuando no se utiliza un kernel lineal, no se devuelve el parámetro w (ya que no existe un hiperplano como tal), se recurre a calcular dicho parámetro directamente en el espacio transformado con un kernel lineal "
   ]
  },
  {
   "cell_type": "code",
   "execution_count": 460,
   "metadata": {},
   "outputs": [],
   "source": [
    "clf_p2c2 = svm.SVC(C = 1e16, kernel = 'linear')\n",
    "clf_p2c2.fit(X_trans,y)\n",
    "sv_trans = clf_p2c2.support_vectors_\n",
    "w_trans = clf_p2c2.coef_.flatten()\n",
    "w0_trans = clf_p2c2.intercept_.flatten()"
   ]
  },
  {
   "cell_type": "code",
   "execution_count": 461,
   "metadata": {},
   "outputs": [
    {
     "data": {
      "text/plain": [
       "(array([[-0.41445311,  0.83022748],\n",
       "        [ 0.03673962,  0.85976393],\n",
       "        [-0.11801769,  0.34466724]]),\n",
       " array([ 0.2591515 , -3.95874505]),\n",
       " array([2.39438823]))"
      ]
     },
     "execution_count": 461,
     "metadata": {},
     "output_type": "execute_result"
    }
   ],
   "source": [
    "sv_trans, w_trans, w0_trans"
   ]
  },
  {
   "cell_type": "code",
   "execution_count": 462,
   "metadata": {},
   "outputs": [
    {
     "data": {
      "text/plain": [
       "<matplotlib.legend.Legend at 0x7fdb3e766c70>"
      ]
     },
     "execution_count": 462,
     "metadata": {},
     "output_type": "execute_result"
    },
    {
     "data": {
      "image/png": "[encoded data removed]",
      "text/plain": [
       "<Figure size 432x288 with 1 Axes>"
      ]
     },
     "metadata": {
      "needs_background": "light"
     },
     "output_type": "display_data"
    }
   ],
   "source": [
    "w_trans_comp = np.concatenate((w_trans,w0_trans))\n",
    "\n",
    "points = np.linspace(X_trans.min(), X_trans.max(), num = 50)\n",
    "\n",
    "surf = hyperplane(w_trans_comp,points,'hyper')\n",
    "upper = hyperplane(w_trans_comp,points,'upper')\n",
    "low = hyperplane(w_trans_comp,points,'lower')\n",
    "\n",
    "plt.scatter(X_trans[y==1,0], X_trans[y==1,1], c='g', marker='x', label = '1')\n",
    "plt.scatter(X_trans[y==-1,0], X_trans[y==-1,1], c='r', marker='x', label = '-1')\n",
    "plt.scatter(sv_trans[:,0],sv_trans[:,1], s=100, facecolors='none', edgecolors='k')\n",
    "plt.plot(points,surf,c='k', linestyle='-')\n",
    "plt.plot(points, upper, c='k',linestyle='--')\n",
    "plt.plot(points, low, c='k',linestyle='--')\n",
    "plt.xlabel('$x1 \\dot x2$')\n",
    "plt.ylabel('$x1^2 + x2^2$')\n",
    "plt.title('Decision function in the transformed space')\n",
    "plt.legend()"
   ]
  },
  {
   "cell_type": "code",
   "execution_count": 463,
   "metadata": {},
   "outputs": [
    {
     "data": {
      "image/png": "[encoded data removed]",
      "text/plain": [
       "<Figure size 432x288 with 1 Axes>"
      ]
     },
     "metadata": {
      "needs_background": "light"
     },
     "output_type": "display_data"
    }
   ],
   "source": [
    "xx = np.linspace(-1.5, 1.5, num = 30)\n",
    "yy = np.linspace(-1.5, 1.5, num = 30)\n",
    "YY, XX = np.meshgrid(yy, xx)\n",
    "Z = np.zeros((30 * 30,1))\n",
    "k=0\n",
    "for x1 in xx:\n",
    "    for x2 in yy:\n",
    "        Z[k] = w_trans_comp[0]*x1*x2 + w_trans_comp[1]*(x1**2 + x2**2) + w_trans_comp[2]\n",
    "        k += 1\n",
    "\n",
    "\n",
    "plt.figure()\n",
    "ax = plt.gca()\n",
    "ax.contour(XX,YY,Z.reshape(XX.shape),colors='k',levels=[-1, 0, 1],alpha=0.5,linestyles=['--', '-', '--'])\n",
    "plt.scatter(X[y==1,0], X[y==1,1], c='g', marker='x', label = '1')\n",
    "plt.scatter(X[y==-1,0], X[y==-1,1], c='r', marker='x', label = '-1')\n",
    "plt.scatter(sv_orig[:,0],sv_orig[:,1], s=100, facecolors='none', edgecolors='k')\n",
    "plt.xlabel('x1')\n",
    "plt.ylabel('x2')\n",
    "plt.legend()\n",
    "plt.axis('equal')\n",
    "plt.title('Decision function in original space')\n",
    "plt.show(block=False) "
   ]
  },
  {
   "cell_type": "code",
   "execution_count": 464,
   "metadata": {
    "scrolled": false
   },
   "outputs": [
    {
     "data": {
      "image/png": "[encoded data removed]",
      "text/plain": [
       "<Figure size 432x288 with 2 Axes>"
      ]
     },
     "metadata": {
      "needs_background": "light"
     },
     "output_type": "display_data"
    }
   ],
   "source": [
    "C = np.where(Z >= 0, 1, 0)\n",
    "plt.figure()\n",
    "plt.imshow(C.reshape(XX.shape), origin='lower', extent=(-1.5, 1.5, -1.5, 1.5), cmap='RdYlGn')\n",
    "plt.colorbar()\n",
    "plt.scatter(X[y==1,0], X[y==1,1], c='k', marker='x')\n",
    "plt.scatter(X[y==-1,0], X[y==-1,1], c='w', marker='x')\n",
    "plt.xlabel('x1')\n",
    "plt.ylabel('x2')\n",
    "plt.axis('equal')\n",
    "plt.title('Classification map in the original space')\n",
    "plt.show(block=False) "
   ]
  },
  {
   "cell_type": "markdown",
   "metadata": {},
   "source": [
    "### Apartado d)"
   ]
  },
  {
   "cell_type": "code",
   "execution_count": 465,
   "metadata": {},
   "outputs": [
    {
     "data": {
      "text/plain": [
       "array([[-0.43771179, -0.91433595],\n",
       "       [ 0.45171473, -0.89969812],\n",
       "       [ 0.63167552,  0.74562728],\n",
       "       [-0.66221133,  0.62586231],\n",
       "       [-0.92638604, -0.03965909],\n",
       "       [-0.02599576,  0.99625551],\n",
       "       [-0.00244128, -1.01119991],\n",
       "       [ 1.00856871,  0.01352739],\n",
       "       [ 0.93322865, -0.36872917],\n",
       "       [-0.21992084,  0.51764584],\n",
       "       [ 0.54581596, -0.2162225 ],\n",
       "       [-0.19028921, -0.53500731]])"
      ]
     },
     "execution_count": 465,
     "metadata": {},
     "output_type": "execute_result"
    }
   ],
   "source": [
    "rbf = svm.SVC(C = 1e6, kernel = 'rbf', gamma = 1)\n",
    "rbf.fit(X,y)\n",
    "sv_rbf = rbf.support_vectors_\n",
    "sv_rbf"
   ]
  },
  {
   "cell_type": "code",
   "execution_count": 466,
   "metadata": {},
   "outputs": [
    {
     "data": {
      "image/png": "[encoded data removed]",
      "text/plain": [
       "<Figure size 432x288 with 1 Axes>"
      ]
     },
     "metadata": {
      "needs_background": "light"
     },
     "output_type": "display_data"
    }
   ],
   "source": [
    "xx = np.linspace(-1.5, 1.5, num = 30)\n",
    "yy = np.linspace(-1.5, 1.5, num = 30)\n",
    "YY, XX = np.meshgrid(yy, xx)\n",
    "Z = np.zeros((30 * 30,1))\n",
    "k=0\n",
    "for x1 in xx:\n",
    "    for x2 in yy:\n",
    "        Z[k] = rbf.decision_function([[x1,x2]])\n",
    "        k += 1\n",
    "\n",
    "\n",
    "plt.figure()\n",
    "ax = plt.gca()\n",
    "ax.contour(XX,YY,Z.reshape(XX.shape),colors='k',levels=[-1, 0, 1],alpha=0.5,linestyles=['--', '-', '--'])\n",
    "plt.scatter(X[y==1,0], X[y==1,1], c='g', marker='x', label = '1')\n",
    "plt.scatter(X[y==-1,0], X[y==-1,1], c='r', marker='x', label = '-1')\n",
    "plt.scatter(sv_rbf[:,0], sv_rbf[:,1], s=100, facecolors='none', edgecolors='k')\n",
    "plt.ylim([0,0.85])\n",
    "plt.xlabel('x1')\n",
    "plt.ylabel('x2')\n",
    "plt.axis('equal')\n",
    "plt.title('Decision function in original space')\n",
    "plt.legend()\n",
    "plt.show(block=False) "
   ]
  },
  {
   "cell_type": "code",
   "execution_count": 467,
   "metadata": {},
   "outputs": [
    {
     "data": {
      "image/png": "[encoded data removed]",
      "text/plain": [
       "<Figure size 432x288 with 2 Axes>"
      ]
     },
     "metadata": {
      "needs_background": "light"
     },
     "output_type": "display_data"
    }
   ],
   "source": [
    "C = np.where(Z >= 0, 1, 0)\n",
    "plt.figure()\n",
    "plt.imshow(C.reshape(XX.shape), origin='lower', extent=(-1.5, 1.5, -1.5, 1.5), cmap='RdYlGn')\n",
    "plt.colorbar()\n",
    "plt.scatter(X[y==1,0], X[y==1,1], c='k', marker='x')\n",
    "plt.scatter(X[y==-1,0], X[y==-1,1], c='w', marker='x')\n",
    "plt.xlabel('x1')\n",
    "plt.ylabel('x2')\n",
    "plt.axis('equal')\n",
    "plt.title('Classification map in the original space with RBF Kernel')\n",
    "plt.show(block=False) "
   ]
  },
  {
   "cell_type": "code",
   "execution_count": 468,
   "metadata": {},
   "outputs": [
    {
     "data": {
      "text/plain": [
       "array([[-1.6326406 , -1.14400131, -1.30385874, -3.59535865, -0.56021008,\n",
       "        -1.89724252, -0.30833892, -0.33072594, -2.16517376,  6.41920061,\n",
       "         3.71097147,  2.80737844]])"
      ]
     },
     "execution_count": 468,
     "metadata": {},
     "output_type": "execute_result"
    }
   ],
   "source": [
    "rbf.dual_coef_"
   ]
  },
  {
   "cell_type": "markdown",
   "metadata": {},
   "source": [
    "Como no se está seguro de que este atributo sean los valores de las lambdas buscados, ya que no se comprende del todo si eso es lo que dice la documentación oficial de scikit, se procede a hallar dichas variables de forma analítica. "
   ]
  },
  {
   "cell_type": "markdown",
   "metadata": {},
   "source": [
    "Para ello únicamente se construye la matriz H con el kernel RBF."
   ]
  },
  {
   "cell_type": "code",
   "execution_count": 469,
   "metadata": {},
   "outputs": [],
   "source": [
    "def build_H_rbf(x, y, gamma):\n",
    "    H = np.zeros((y.shape[0], y.shape[0])) #NxN matrix, where N = number of examples\n",
    "    for i in range(y.shape[0]):\n",
    "        for j in range(y.shape[0]):\n",
    "            subs = x[i]-x[j]\n",
    "            d = np.dot(subs.T, subs) #Euclidean square distance\n",
    "            K = np.exp(-gamma*d) #RBF kernel\n",
    "            H[i,j] = y[i]*y[j]*K\n",
    "    \n",
    "    return H"
   ]
  },
  {
   "cell_type": "code",
   "execution_count": 470,
   "metadata": {},
   "outputs": [
    {
     "data": {
      "text/plain": [
       "array([4.01410370e-09, 5.12117976e-09, 6.42252874e+00, 1.64031484e+00,\n",
       "       7.18475791e-09, 6.98417280e-09, 1.15692115e+00, 1.01900865e-07,\n",
       "       5.82988763e-09, 5.49818760e-09, 1.29983408e+00, 9.56365501e-09,\n",
       "       1.01958484e-06, 2.09443628e-08, 3.59721557e+00, 1.61764132e-08,\n",
       "       1.53470575e-08, 3.70703306e+00, 2.80783863e+00, 1.59517371e-08,\n",
       "       6.20219948e-09, 4.34966980e-09, 4.16798227e-09, 2.43255802e-08,\n",
       "       1.07826194e-07, 5.58844343e-01, 1.90047808e+00, 7.74648713e-09,\n",
       "       2.93477008e-01, 1.02530719e-08, 3.41357539e-01, 2.14895667e+00])"
      ]
     },
     "execution_count": 470,
     "metadata": {},
     "output_type": "execute_result"
    }
   ],
   "source": [
    "N = y.shape[0]\n",
    "#y = y.reshape((N,))\n",
    "gamma = 1\n",
    "\n",
    "P = build_H_rbf(X, y, gamma)\n",
    "q = -np.ones((N,))\n",
    "G = -np.identity(N)\n",
    "h = np.zeros((N,))\n",
    "A = y.reshape((1,-1))\n",
    "b = np.zeros(1)\n",
    "\n",
    "lm = solve_qp(P, q, G, h, A, b, solver='cvxopt')\n",
    "lm"
   ]
  },
  {
   "cell_type": "code",
   "execution_count": 471,
   "metadata": {},
   "outputs": [],
   "source": [
    "index_sv = np.where(lm>1e-06)\n",
    "lm = lm[index_sv]"
   ]
  },
  {
   "cell_type": "code",
   "execution_count": 472,
   "metadata": {
    "scrolled": false
   },
   "outputs": [
    {
     "data": {
      "text/plain": [
       "array([6.42252874e+00, 1.64031484e+00, 1.15692115e+00, 1.29983408e+00,\n",
       "       1.01958484e-06, 3.59721557e+00, 3.70703306e+00, 2.80783863e+00,\n",
       "       5.58844343e-01, 1.90047808e+00, 2.93477008e-01, 3.41357539e-01,\n",
       "       2.14895667e+00])"
      ]
     },
     "execution_count": 472,
     "metadata": {},
     "output_type": "execute_result"
    }
   ],
   "source": [
    "lm"
   ]
  },
  {
   "cell_type": "markdown",
   "metadata": {},
   "source": [
    "Efectivamente, el atributo dual_coef_ ofrece los valores de las lambdas. Sin embargo este paso era necesario para comprobar que era así."
   ]
  },
  {
   "cell_type": "code",
   "execution_count": 473,
   "metadata": {},
   "outputs": [
    {
     "data": {
      "text/plain": [
       "((13,), (12, 2))"
      ]
     },
     "execution_count": 473,
     "metadata": {},
     "output_type": "execute_result"
    }
   ],
   "source": [
    "lm.shape, sv_rbf.shape"
   ]
  },
  {
   "cell_type": "markdown",
   "metadata": {},
   "source": [
    "Sobra una lamda. Se observa que hay una con un valor de 1.019e-06, muy cercano a 1e-06. Se procede a comprobar si el vector asociado con esa lambda se incluye en los vectores de soporte ofrecidos por scikit"
   ]
  },
  {
   "cell_type": "code",
   "execution_count": 474,
   "metadata": {},
   "outputs": [
    {
     "data": {
      "text/plain": [
       "array([[-0.21992084,  0.51764584],\n",
       "       [-0.43771179, -0.91433595],\n",
       "       [ 0.45171473, -0.89969812],\n",
       "       [ 0.63167552,  0.74562728],\n",
       "       [-0.91741192, -0.35004573],\n",
       "       [-0.66221133,  0.62586231],\n",
       "       [ 0.54581596, -0.2162225 ],\n",
       "       [-0.19028921, -0.53500731],\n",
       "       [-0.92638604, -0.03965909],\n",
       "       [-0.02599576,  0.99625551],\n",
       "       [-0.00244128, -1.01119991],\n",
       "       [ 1.00856871,  0.01352739],\n",
       "       [ 0.93322865, -0.36872917]])"
      ]
     },
     "execution_count": 474,
     "metadata": {},
     "output_type": "execute_result"
    }
   ],
   "source": [
    "sv_temp = X[index_sv]\n",
    "sv_temp"
   ]
  },
  {
   "cell_type": "code",
   "execution_count": 475,
   "metadata": {
    "scrolled": true
   },
   "outputs": [
    {
     "data": {
      "text/plain": [
       "array([[-0.43771179, -0.91433595],\n",
       "       [ 0.45171473, -0.89969812],\n",
       "       [ 0.63167552,  0.74562728],\n",
       "       [-0.66221133,  0.62586231],\n",
       "       [-0.92638604, -0.03965909],\n",
       "       [-0.02599576,  0.99625551],\n",
       "       [-0.00244128, -1.01119991],\n",
       "       [ 1.00856871,  0.01352739],\n",
       "       [ 0.93322865, -0.36872917],\n",
       "       [-0.21992084,  0.51764584],\n",
       "       [ 0.54581596, -0.2162225 ],\n",
       "       [-0.19028921, -0.53500731]])"
      ]
     },
     "execution_count": 475,
     "metadata": {},
     "output_type": "execute_result"
    }
   ],
   "source": [
    "sv_rbf"
   ]
  },
  {
   "cell_type": "markdown",
   "metadata": {},
   "source": [
    "Efectivamente el vector asociado con esa lambda no ha sido seleccionado por scikit. "
   ]
  },
  {
   "cell_type": "code",
   "execution_count": 476,
   "metadata": {},
   "outputs": [
    {
     "data": {
      "text/plain": [
       "array([-1.68204171])"
      ]
     },
     "execution_count": 476,
     "metadata": {},
     "output_type": "execute_result"
    }
   ],
   "source": [
    "rbf.intercept_"
   ]
  },
  {
   "cell_type": "markdown",
   "metadata": {},
   "source": [
    "## Problema 3"
   ]
  },
  {
   "cell_type": "markdown",
   "metadata": {},
   "source": [
    "### Apartado a)"
   ]
  },
  {
   "cell_type": "code",
   "execution_count": 477,
   "metadata": {},
   "outputs": [],
   "source": [
    "from sklearn.model_selection import GridSearchCV, cross_validate\n",
    "from sklearn import metrics\n",
    "import pandas as pd"
   ]
  },
  {
   "cell_type": "code",
   "execution_count": 478,
   "metadata": {},
   "outputs": [],
   "source": [
    "group = '02'\n",
    "ds = 34\n",
    "path = './in/datasets02/'\n",
    "data_train = np.loadtxt(path+'ds'+group+str(ds)+'tr.txt')\n",
    "data_test = np.loadtxt(path+'ds'+group+str(ds)+'te.txt')\n",
    "\n",
    "X_train = data_train[:,0:2]\n",
    "y_train = data_train[:,2:3]\n",
    "\n",
    "X_test = data_test[:,0:2]\n",
    "y_test = data_test[:,2:3]"
   ]
  },
  {
   "cell_type": "code",
   "execution_count": 479,
   "metadata": {},
   "outputs": [],
   "source": [
    "y_train = [1 if y==1 else -1 for y in y_train]\n",
    "y_test = [1 if y==1 else -1 for y in y_test]\n",
    "\n",
    "y_train = np.array(y_train)\n",
    "y_test = np.array(y_test)"
   ]
  },
  {
   "cell_type": "code",
   "execution_count": 480,
   "metadata": {},
   "outputs": [],
   "source": [
    "def normalization (x):\n",
    "    return ((x-x.min())/(x.max()-x.min()))"
   ]
  },
  {
   "cell_type": "code",
   "execution_count": 481,
   "metadata": {},
   "outputs": [],
   "source": [
    "parameters_linear = {'kernel':['linear'], 'C':[1e-02,1,1e02]}\n",
    "parameters_poly = {'kernel':['poly'], 'gamma': [1], 'coef0': [1], 'degree': [2,3],'C':[1e-1,10,1e03]}\n",
    "parameters_rbf = {'kernel':['rbf'], 'gamma': [1,2],'C':[1e-02,10,1e03]}\n",
    "\n",
    "\n",
    "scoring = 'accuracy'\n",
    "cv = 10"
   ]
  },
  {
   "cell_type": "markdown",
   "metadata": {},
   "source": [
    "### Apartado b)"
   ]
  },
  {
   "cell_type": "code",
   "execution_count": 482,
   "metadata": {},
   "outputs": [],
   "source": [
    "X_train_norm = normalization(X_train)"
   ]
  },
  {
   "cell_type": "code",
   "execution_count": 483,
   "metadata": {},
   "outputs": [],
   "source": [
    "svc = svm.SVC()\n",
    "\n",
    "\n",
    "clf_linear = GridSearchCV(svc, parameters_linear, scoring = scoring, cv = cv)\n",
    "clf_poly = GridSearchCV(svc, parameters_poly, scoring = scoring, cv = cv)\n",
    "clf_rbf = GridSearchCV(svc, parameters_rbf, scoring = scoring, cv = cv)"
   ]
  },
  {
   "cell_type": "code",
   "execution_count": 484,
   "metadata": {},
   "outputs": [
    {
     "data": {
      "text/plain": [
       "GridSearchCV(cv=10, estimator=SVC(),\n",
       "             param_grid={'C': [0.01, 10, 1000.0], 'gamma': [1, 2],\n",
       "                         'kernel': ['rbf']},\n",
       "             scoring='accuracy')"
      ]
     },
     "execution_count": 484,
     "metadata": {},
     "output_type": "execute_result"
    }
   ],
   "source": [
    "#clf.fit(X_train_norm, y_train)\n",
    "clf_linear.fit(X_train_norm, y_train)\n",
    "clf_poly.fit(X_train_norm, y_train)\n",
    "clf_rbf.fit(X_train_norm, y_train)"
   ]
  },
  {
   "cell_type": "code",
   "execution_count": 485,
   "metadata": {},
   "outputs": [
    {
     "name": "stdout",
     "output_type": "stream",
     "text": [
      "Best mean linear accuracy:  0.7333333333333334 \n",
      " Best mean poly accuracy:  0.8458333333333332 \n",
      " Best mean RBF accuracy:  0.875\n"
     ]
    }
   ],
   "source": [
    "best_linear = clf_linear.best_score_\n",
    "best_poly = clf_poly.best_score_\n",
    "best_rbf = clf_rbf.best_score_\n",
    "\n",
    "print('Best mean linear accuracy: ', best_linear, '\\n', \n",
    "      'Best mean poly accuracy: ', best_poly, '\\n', \n",
    "      'Best mean RBF accuracy: ', best_rbf)"
   ]
  },
  {
   "cell_type": "code",
   "execution_count": 486,
   "metadata": {},
   "outputs": [],
   "source": [
    "best_clf = clf_rbf.best_estimator_\n",
    "best_sv = best_clf.support_vectors_"
   ]
  },
  {
   "cell_type": "code",
   "execution_count": 487,
   "metadata": {},
   "outputs": [
    {
     "data": {
      "text/plain": [
       "SVC(C=1000.0, gamma=2)"
      ]
     },
     "execution_count": 487,
     "metadata": {},
     "output_type": "execute_result"
    }
   ],
   "source": [
    "best_clf"
   ]
  },
  {
   "cell_type": "markdown",
   "metadata": {},
   "source": [
    "### Apartado c)"
   ]
  },
  {
   "cell_type": "markdown",
   "metadata": {},
   "source": [
    "#### 1"
   ]
  },
  {
   "cell_type": "code",
   "execution_count": 488,
   "metadata": {},
   "outputs": [
    {
     "data": {
      "image/png": "[encoded data removed]",
      "text/plain": [
       "<Figure size 432x288 with 1 Axes>"
      ]
     },
     "metadata": {
      "needs_background": "light"
     },
     "output_type": "display_data"
    }
   ],
   "source": [
    "xx = np.linspace(0, 1, num = 30)\n",
    "yy = np.linspace(0, 1, num = 30)\n",
    "YY, XX = np.meshgrid(yy, xx)\n",
    "Z = np.zeros((30 * 30,1))\n",
    "k=0\n",
    "for x1 in xx:\n",
    "    for x2 in yy:\n",
    "        Z[k] = clf_rbf.decision_function([[x1,x2]])\n",
    "        k += 1\n",
    "\n",
    "\n",
    "plt.figure()\n",
    "ax = plt.gca()\n",
    "ax.contour(XX,YY,Z.reshape(XX.shape),colors='k',levels=[-1, 0, 1],alpha=0.5,linestyles=['--', '-', '--'])\n",
    "plt.scatter(X_train_norm[y_train==1,0], X_train_norm[y_train==1,1], c='g', marker='x', label = '1')\n",
    "plt.scatter(X_train_norm[y_train==-1,0], X_train_norm[y_train==-1,1], c='r', marker='x', label = '-1')\n",
    "plt.scatter(best_sv[:,0], best_sv[:,1], s=100, facecolors='none', edgecolors='k')\n",
    "plt.ylim([-0.1,0.85])\n",
    "plt.xlim([0,1.1])\n",
    "plt.xlabel('x1')\n",
    "plt.ylabel('x2')\n",
    "plt.title('Decision function: Kernel RBF, $\\gamma = 2$ and C = 1000 ')\n",
    "plt.legend()\n",
    "plt.show(block=False)"
   ]
  },
  {
   "cell_type": "markdown",
   "metadata": {},
   "source": [
    "#### 2"
   ]
  },
  {
   "cell_type": "code",
   "execution_count": 489,
   "metadata": {
    "scrolled": true
   },
   "outputs": [
    {
     "data": {
      "image/png": "[encoded data removed]",
      "text/plain": [
       "<Figure size 432x288 with 2 Axes>"
      ]
     },
     "metadata": {
      "needs_background": "light"
     },
     "output_type": "display_data"
    }
   ],
   "source": [
    "C = np.where(Z >= 0, 1, 0)\n",
    "plt.figure()\n",
    "plt.imshow(C.reshape(XX.shape), origin='lower', extent=(0, 1, 0, 1), cmap='RdYlGn')\n",
    "plt.colorbar()\n",
    "plt.scatter(X_train_norm[y_train==1,0], X_train_norm[y_train==1,1], c='k', marker='x')\n",
    "plt.scatter(X_train_norm[y_train==-1,0], X_train_norm[y_train==-1,1], c='w', marker='x')\n",
    "plt.xlabel('x1')\n",
    "plt.ylabel('x2')\n",
    "plt.axis('equal')\n",
    "plt.title('Classification map: Kernel RBF, $\\gamma = 2$ and C = 1000')\n",
    "plt.show(block=False)"
   ]
  },
  {
   "cell_type": "markdown",
   "metadata": {},
   "source": [
    "Se puede observar que ha habido algo que ha ido mal a la hora de graficar o evaluar la función de decisión, ya que el mapa de clasificación aparece desplazado hacia la izquierda respecto de la función de decisión. Sin embargo, dado que ha sido un error de última hora, no se ha podido solucionar. "
   ]
  },
  {
   "cell_type": "markdown",
   "metadata": {},
   "source": [
    "### Apartado d)"
   ]
  },
  {
   "cell_type": "markdown",
   "metadata": {},
   "source": [
    "#### 1"
   ]
  },
  {
   "cell_type": "code",
   "execution_count": 490,
   "metadata": {},
   "outputs": [],
   "source": [
    "X_test_norm = normalization(X_test)"
   ]
  },
  {
   "cell_type": "code",
   "execution_count": 491,
   "metadata": {},
   "outputs": [],
   "source": [
    "y_predict = best_clf.predict(X_test_norm)"
   ]
  },
  {
   "cell_type": "code",
   "execution_count": 492,
   "metadata": {
    "scrolled": true
   },
   "outputs": [
    {
     "name": "stdout",
     "output_type": "stream",
     "text": [
      "Accuracy:  0.8833333333333333 \n",
      " Precision:  0.8695652173913043 \n",
      " Recall:  0.8333333333333334 \n",
      " F1:  0.851063829787234\n"
     ]
    }
   ],
   "source": [
    "accuracy = best_clf.score(X_test_norm, y_test)\n",
    "precision = metrics.precision_score(y_test, y_predict)\n",
    "recall = metrics.recall_score(y_test, y_predict)\n",
    "f1 = metrics.f1_score(y_test,y_predict)\n",
    "\n",
    "print ('Accuracy: ', accuracy, '\\n',\n",
    "       'Precision: ', precision,'\\n',\n",
    "      'Recall: ', recall, '\\n', \n",
    "      'F1: ', f1)"
   ]
  },
  {
   "cell_type": "markdown",
   "metadata": {},
   "source": [
    "#### 2"
   ]
  },
  {
   "cell_type": "code",
   "execution_count": 493,
   "metadata": {},
   "outputs": [
    {
     "data": {
      "image/png": "[encoded data removed]",
      "text/plain": [
       "<Figure size 432x288 with 2 Axes>"
      ]
     },
     "metadata": {
      "needs_background": "light"
     },
     "output_type": "display_data"
    }
   ],
   "source": [
    "C_test = np.where(Z >= 0, 1, 0)\n",
    "plt.figure()\n",
    "plt.imshow(C_test.reshape(XX.shape), origin='lower', extent=(0, 1, 0, 1), cmap='RdYlGn')\n",
    "plt.colorbar()\n",
    "plt.scatter(X_test_norm[y_test==1,0], X_test_norm[y_test==1,1], c='k', marker='x')\n",
    "plt.scatter(X_test_norm[y_test==-1,0], X_test_norm[y_test==-1,1], c='w', marker='x')\n",
    "plt.xlabel('x1')\n",
    "plt.ylabel('x2')\n",
    "plt.axis('equal')\n",
    "plt.title('Test samples over classification map: Kernel RBF, $\\gamma = 2$ and C = 1000')\n",
    "plt.show(block=False)"
   ]
  },
  {
   "cell_type": "markdown",
   "metadata": {},
   "source": [
    "De nuevo se observa que el mapa de clasificación aparece desplazado. Sin embargo en este caso sí que queda explícito el hecho de que hay un error en la forma de realizar la gráfica y no en la función de decisión en si, ya no existe una concordancia entre las métricas del test (valores altos, indicando una buena clasificación) con lo que se ve en este mapa."
   ]
  },
  {
   "cell_type": "markdown",
   "metadata": {},
   "source": [
    "### Apartado e)"
   ]
  },
  {
   "cell_type": "code",
   "execution_count": 494,
   "metadata": {},
   "outputs": [],
   "source": [
    "X_norm = np.concatenate((X_train_norm, X_test_norm))\n",
    "y = np.concatenate((y_train,y_test))"
   ]
  },
  {
   "cell_type": "code",
   "execution_count": 495,
   "metadata": {},
   "outputs": [],
   "source": [
    "metric = ['accuracy', 'precision', 'recall']\n",
    "scores = cross_validate(best_clf, X_norm, y, scoring = metrics)"
   ]
  },
  {
   "cell_type": "code",
   "execution_count": 496,
   "metadata": {},
   "outputs": [
    {
     "data": {
      "text/html": [
       "<div>\n",
       "<style scoped>\n",
       "    .dataframe tbody tr th:only-of-type {\n",
       "        vertical-align: middle;\n",
       "    }\n",
       "\n",
       "    .dataframe tbody tr th {\n",
       "        vertical-align: top;\n",
       "    }\n",
       "\n",
       "    .dataframe thead th {\n",
       "        text-align: right;\n",
       "    }\n",
       "</style>\n",
       "<table border=\"1\" class=\"dataframe\">\n",
       "  <thead>\n",
       "    <tr style=\"text-align: right;\">\n",
       "      <th></th>\n",
       "      <th>fit_time</th>\n",
       "      <th>score_time</th>\n",
       "      <th>test_accuracy</th>\n",
       "      <th>test_precision</th>\n",
       "      <th>test_recall</th>\n",
       "    </tr>\n",
       "  </thead>\n",
       "  <tbody>\n",
       "    <tr>\n",
       "      <th>0</th>\n",
       "      <td>0.018035</td>\n",
       "      <td>0.003245</td>\n",
       "      <td>0.866667</td>\n",
       "      <td>0.892857</td>\n",
       "      <td>0.833333</td>\n",
       "    </tr>\n",
       "    <tr>\n",
       "      <th>1</th>\n",
       "      <td>0.002984</td>\n",
       "      <td>0.002252</td>\n",
       "      <td>0.883333</td>\n",
       "      <td>0.896552</td>\n",
       "      <td>0.866667</td>\n",
       "    </tr>\n",
       "    <tr>\n",
       "      <th>2</th>\n",
       "      <td>0.003091</td>\n",
       "      <td>0.002248</td>\n",
       "      <td>0.883333</td>\n",
       "      <td>0.925926</td>\n",
       "      <td>0.833333</td>\n",
       "    </tr>\n",
       "    <tr>\n",
       "      <th>3</th>\n",
       "      <td>0.003597</td>\n",
       "      <td>0.002021</td>\n",
       "      <td>0.816667</td>\n",
       "      <td>0.880000</td>\n",
       "      <td>0.733333</td>\n",
       "    </tr>\n",
       "    <tr>\n",
       "      <th>4</th>\n",
       "      <td>0.003639</td>\n",
       "      <td>0.001887</td>\n",
       "      <td>0.900000</td>\n",
       "      <td>0.928571</td>\n",
       "      <td>0.866667</td>\n",
       "    </tr>\n",
       "  </tbody>\n",
       "</table>\n",
       "</div>"
      ],
      "text/plain": [
       "   fit_time  score_time  test_accuracy  test_precision  test_recall\n",
       "0  0.018035    0.003245       0.866667        0.892857     0.833333\n",
       "1  0.002984    0.002252       0.883333        0.896552     0.866667\n",
       "2  0.003091    0.002248       0.883333        0.925926     0.833333\n",
       "3  0.003597    0.002021       0.816667        0.880000     0.733333\n",
       "4  0.003639    0.001887       0.900000        0.928571     0.866667"
      ]
     },
     "execution_count": 496,
     "metadata": {},
     "output_type": "execute_result"
    }
   ],
   "source": [
    "scores_df = pd.DataFrame(scores)\n",
    "scores_df"
   ]
  },
  {
   "cell_type": "markdown",
   "metadata": {},
   "source": [
    "## Problema 4"
   ]
  },
  {
   "cell_type": "markdown",
   "metadata": {},
   "source": [
    "### Apartado a)"
   ]
  },
  {
   "cell_type": "code",
   "execution_count": 528,
   "metadata": {},
   "outputs": [],
   "source": [
    "from sklearn.model_selection import GridSearchCV, cross_validate\n",
    "from sklearn import metrics\n",
    "import pandas as pd\n",
    "\n",
    "from sklearn.neighbors import KNeighborsClassifier\n",
    "from matplotlib.colors import ListedColormap"
   ]
  },
  {
   "cell_type": "code",
   "execution_count": 529,
   "metadata": {},
   "outputs": [],
   "source": [
    "group = '02'\n",
    "ds = 34\n",
    "path = './in/datasets02/'\n",
    "data_train = np.loadtxt(path+'ds'+group+str(ds)+'tr.txt')\n",
    "data_test = np.loadtxt(path+'ds'+group+str(ds)+'te.txt')\n",
    "\n",
    "X_train = data_train[:,0:2]\n",
    "y_train = data_train[:,2:3]\n",
    "\n",
    "X_test = data_test[:,0:2]\n",
    "y_test = data_test[:,2:3]"
   ]
  },
  {
   "cell_type": "code",
   "execution_count": 530,
   "metadata": {},
   "outputs": [],
   "source": [
    "y_train = y_train.reshape((y_train.shape[0],))\n",
    "y_test = y_test.reshape((y_test.shape[0],))"
   ]
  },
  {
   "cell_type": "code",
   "execution_count": 531,
   "metadata": {},
   "outputs": [],
   "source": [
    "parameters = {'n_neighbors':[1,5], \n",
    "             'weights': ['uniform','distance'],\n",
    "             'algorithm': ['brute','kd_tree'], \n",
    "             'p':[1,2]} #manhattan and Euclidean distances\n",
    "\n",
    "cv = 10\n",
    "scoring = 'accuracy'"
   ]
  },
  {
   "cell_type": "markdown",
   "metadata": {},
   "source": [
    "### Apartado b)"
   ]
  },
  {
   "cell_type": "code",
   "execution_count": 532,
   "metadata": {},
   "outputs": [],
   "source": [
    "X_train_norm = normalization(X_train)"
   ]
  },
  {
   "cell_type": "code",
   "execution_count": 533,
   "metadata": {},
   "outputs": [],
   "source": [
    "knn = KNeighborsClassifier()\n",
    "\n",
    "grid_knn = GridSearchCV(knn, parameters, scoring = scoring, cv = cv)"
   ]
  },
  {
   "cell_type": "code",
   "execution_count": 534,
   "metadata": {},
   "outputs": [
    {
     "data": {
      "text/plain": [
       "GridSearchCV(cv=10, estimator=KNeighborsClassifier(),\n",
       "             param_grid={'algorithm': ['brute', 'kd_tree'],\n",
       "                         'n_neighbors': [1, 5], 'p': [1, 2],\n",
       "                         'weights': ['uniform', 'distance']},\n",
       "             scoring='accuracy')"
      ]
     },
     "execution_count": 534,
     "metadata": {},
     "output_type": "execute_result"
    }
   ],
   "source": [
    "grid_knn.fit(X_train_norm, y_train)"
   ]
  },
  {
   "cell_type": "code",
   "execution_count": 535,
   "metadata": {},
   "outputs": [
    {
     "data": {
      "text/html": [
       "<div>\n",
       "<style scoped>\n",
       "    .dataframe tbody tr th:only-of-type {\n",
       "        vertical-align: middle;\n",
       "    }\n",
       "\n",
       "    .dataframe tbody tr th {\n",
       "        vertical-align: top;\n",
       "    }\n",
       "\n",
       "    .dataframe thead th {\n",
       "        text-align: right;\n",
       "    }\n",
       "</style>\n",
       "<table border=\"1\" class=\"dataframe\">\n",
       "  <thead>\n",
       "    <tr style=\"text-align: right;\">\n",
       "      <th></th>\n",
       "      <th>mean_fit_time</th>\n",
       "      <th>std_fit_time</th>\n",
       "      <th>mean_score_time</th>\n",
       "      <th>std_score_time</th>\n",
       "      <th>param_algorithm</th>\n",
       "      <th>param_n_neighbors</th>\n",
       "      <th>param_p</th>\n",
       "      <th>param_weights</th>\n",
       "      <th>params</th>\n",
       "      <th>split0_test_score</th>\n",
       "      <th>...</th>\n",
       "      <th>split3_test_score</th>\n",
       "      <th>split4_test_score</th>\n",
       "      <th>split5_test_score</th>\n",
       "      <th>split6_test_score</th>\n",
       "      <th>split7_test_score</th>\n",
       "      <th>split8_test_score</th>\n",
       "      <th>split9_test_score</th>\n",
       "      <th>mean_test_score</th>\n",
       "      <th>std_test_score</th>\n",
       "      <th>rank_test_score</th>\n",
       "    </tr>\n",
       "  </thead>\n",
       "  <tbody>\n",
       "    <tr>\n",
       "      <th>0</th>\n",
       "      <td>0.001110</td>\n",
       "      <td>0.001123</td>\n",
       "      <td>0.002760</td>\n",
       "      <td>0.002866</td>\n",
       "      <td>brute</td>\n",
       "      <td>1</td>\n",
       "      <td>1</td>\n",
       "      <td>uniform</td>\n",
       "      <td>{'algorithm': 'brute', 'n_neighbors': 1, 'p': ...</td>\n",
       "      <td>0.916667</td>\n",
       "      <td>...</td>\n",
       "      <td>0.875</td>\n",
       "      <td>0.833333</td>\n",
       "      <td>0.958333</td>\n",
       "      <td>0.916667</td>\n",
       "      <td>0.875</td>\n",
       "      <td>0.833333</td>\n",
       "      <td>0.875000</td>\n",
       "      <td>0.883333</td>\n",
       "      <td>0.052042</td>\n",
       "      <td>9</td>\n",
       "    </tr>\n",
       "    <tr>\n",
       "      <th>1</th>\n",
       "      <td>0.000541</td>\n",
       "      <td>0.000095</td>\n",
       "      <td>0.000935</td>\n",
       "      <td>0.000227</td>\n",
       "      <td>brute</td>\n",
       "      <td>1</td>\n",
       "      <td>1</td>\n",
       "      <td>distance</td>\n",
       "      <td>{'algorithm': 'brute', 'n_neighbors': 1, 'p': ...</td>\n",
       "      <td>0.916667</td>\n",
       "      <td>...</td>\n",
       "      <td>0.875</td>\n",
       "      <td>0.833333</td>\n",
       "      <td>0.958333</td>\n",
       "      <td>0.916667</td>\n",
       "      <td>0.875</td>\n",
       "      <td>0.833333</td>\n",
       "      <td>0.875000</td>\n",
       "      <td>0.883333</td>\n",
       "      <td>0.052042</td>\n",
       "      <td>9</td>\n",
       "    </tr>\n",
       "    <tr>\n",
       "      <th>2</th>\n",
       "      <td>0.000647</td>\n",
       "      <td>0.000190</td>\n",
       "      <td>0.002069</td>\n",
       "      <td>0.000409</td>\n",
       "      <td>brute</td>\n",
       "      <td>1</td>\n",
       "      <td>2</td>\n",
       "      <td>uniform</td>\n",
       "      <td>{'algorithm': 'brute', 'n_neighbors': 1, 'p': ...</td>\n",
       "      <td>0.791667</td>\n",
       "      <td>...</td>\n",
       "      <td>0.875</td>\n",
       "      <td>0.833333</td>\n",
       "      <td>0.958333</td>\n",
       "      <td>0.916667</td>\n",
       "      <td>0.875</td>\n",
       "      <td>0.833333</td>\n",
       "      <td>0.875000</td>\n",
       "      <td>0.875000</td>\n",
       "      <td>0.045644</td>\n",
       "      <td>13</td>\n",
       "    </tr>\n",
       "    <tr>\n",
       "      <th>3</th>\n",
       "      <td>0.000553</td>\n",
       "      <td>0.000079</td>\n",
       "      <td>0.001221</td>\n",
       "      <td>0.000518</td>\n",
       "      <td>brute</td>\n",
       "      <td>1</td>\n",
       "      <td>2</td>\n",
       "      <td>distance</td>\n",
       "      <td>{'algorithm': 'brute', 'n_neighbors': 1, 'p': ...</td>\n",
       "      <td>0.791667</td>\n",
       "      <td>...</td>\n",
       "      <td>0.875</td>\n",
       "      <td>0.833333</td>\n",
       "      <td>0.958333</td>\n",
       "      <td>0.916667</td>\n",
       "      <td>0.875</td>\n",
       "      <td>0.833333</td>\n",
       "      <td>0.875000</td>\n",
       "      <td>0.875000</td>\n",
       "      <td>0.045644</td>\n",
       "      <td>13</td>\n",
       "    </tr>\n",
       "    <tr>\n",
       "      <th>4</th>\n",
       "      <td>0.000714</td>\n",
       "      <td>0.000311</td>\n",
       "      <td>0.001863</td>\n",
       "      <td>0.000317</td>\n",
       "      <td>brute</td>\n",
       "      <td>5</td>\n",
       "      <td>1</td>\n",
       "      <td>uniform</td>\n",
       "      <td>{'algorithm': 'brute', 'n_neighbors': 5, 'p': ...</td>\n",
       "      <td>0.833333</td>\n",
       "      <td>...</td>\n",
       "      <td>0.875</td>\n",
       "      <td>0.875000</td>\n",
       "      <td>1.000000</td>\n",
       "      <td>0.916667</td>\n",
       "      <td>0.875</td>\n",
       "      <td>0.833333</td>\n",
       "      <td>0.958333</td>\n",
       "      <td>0.912500</td>\n",
       "      <td>0.060237</td>\n",
       "      <td>3</td>\n",
       "    </tr>\n",
       "    <tr>\n",
       "      <th>5</th>\n",
       "      <td>0.000635</td>\n",
       "      <td>0.000227</td>\n",
       "      <td>0.001051</td>\n",
       "      <td>0.000155</td>\n",
       "      <td>brute</td>\n",
       "      <td>5</td>\n",
       "      <td>1</td>\n",
       "      <td>distance</td>\n",
       "      <td>{'algorithm': 'brute', 'n_neighbors': 5, 'p': ...</td>\n",
       "      <td>0.833333</td>\n",
       "      <td>...</td>\n",
       "      <td>0.875</td>\n",
       "      <td>0.875000</td>\n",
       "      <td>1.000000</td>\n",
       "      <td>0.875000</td>\n",
       "      <td>0.875</td>\n",
       "      <td>0.833333</td>\n",
       "      <td>0.916667</td>\n",
       "      <td>0.900000</td>\n",
       "      <td>0.056519</td>\n",
       "      <td>7</td>\n",
       "    </tr>\n",
       "    <tr>\n",
       "      <th>6</th>\n",
       "      <td>0.000772</td>\n",
       "      <td>0.000307</td>\n",
       "      <td>0.003414</td>\n",
       "      <td>0.002629</td>\n",
       "      <td>brute</td>\n",
       "      <td>5</td>\n",
       "      <td>2</td>\n",
       "      <td>uniform</td>\n",
       "      <td>{'algorithm': 'brute', 'n_neighbors': 5, 'p': ...</td>\n",
       "      <td>0.875000</td>\n",
       "      <td>...</td>\n",
       "      <td>0.875</td>\n",
       "      <td>0.875000</td>\n",
       "      <td>1.000000</td>\n",
       "      <td>0.916667</td>\n",
       "      <td>0.875</td>\n",
       "      <td>0.833333</td>\n",
       "      <td>0.958333</td>\n",
       "      <td>0.916667</td>\n",
       "      <td>0.055902</td>\n",
       "      <td>1</td>\n",
       "    </tr>\n",
       "    <tr>\n",
       "      <th>7</th>\n",
       "      <td>0.001527</td>\n",
       "      <td>0.000818</td>\n",
       "      <td>0.003195</td>\n",
       "      <td>0.001831</td>\n",
       "      <td>brute</td>\n",
       "      <td>5</td>\n",
       "      <td>2</td>\n",
       "      <td>distance</td>\n",
       "      <td>{'algorithm': 'brute', 'n_neighbors': 5, 'p': ...</td>\n",
       "      <td>0.875000</td>\n",
       "      <td>...</td>\n",
       "      <td>0.875</td>\n",
       "      <td>0.875000</td>\n",
       "      <td>1.000000</td>\n",
       "      <td>0.916667</td>\n",
       "      <td>0.875</td>\n",
       "      <td>0.833333</td>\n",
       "      <td>0.916667</td>\n",
       "      <td>0.908333</td>\n",
       "      <td>0.052042</td>\n",
       "      <td>5</td>\n",
       "    </tr>\n",
       "    <tr>\n",
       "      <th>8</th>\n",
       "      <td>0.000767</td>\n",
       "      <td>0.000242</td>\n",
       "      <td>0.001878</td>\n",
       "      <td>0.000243</td>\n",
       "      <td>kd_tree</td>\n",
       "      <td>1</td>\n",
       "      <td>1</td>\n",
       "      <td>uniform</td>\n",
       "      <td>{'algorithm': 'kd_tree', 'n_neighbors': 1, 'p'...</td>\n",
       "      <td>0.916667</td>\n",
       "      <td>...</td>\n",
       "      <td>0.875</td>\n",
       "      <td>0.833333</td>\n",
       "      <td>0.958333</td>\n",
       "      <td>0.916667</td>\n",
       "      <td>0.875</td>\n",
       "      <td>0.833333</td>\n",
       "      <td>0.875000</td>\n",
       "      <td>0.883333</td>\n",
       "      <td>0.052042</td>\n",
       "      <td>9</td>\n",
       "    </tr>\n",
       "    <tr>\n",
       "      <th>9</th>\n",
       "      <td>0.000623</td>\n",
       "      <td>0.000081</td>\n",
       "      <td>0.001128</td>\n",
       "      <td>0.000149</td>\n",
       "      <td>kd_tree</td>\n",
       "      <td>1</td>\n",
       "      <td>1</td>\n",
       "      <td>distance</td>\n",
       "      <td>{'algorithm': 'kd_tree', 'n_neighbors': 1, 'p'...</td>\n",
       "      <td>0.916667</td>\n",
       "      <td>...</td>\n",
       "      <td>0.875</td>\n",
       "      <td>0.833333</td>\n",
       "      <td>0.958333</td>\n",
       "      <td>0.916667</td>\n",
       "      <td>0.875</td>\n",
       "      <td>0.833333</td>\n",
       "      <td>0.875000</td>\n",
       "      <td>0.883333</td>\n",
       "      <td>0.052042</td>\n",
       "      <td>9</td>\n",
       "    </tr>\n",
       "    <tr>\n",
       "      <th>10</th>\n",
       "      <td>0.000763</td>\n",
       "      <td>0.000234</td>\n",
       "      <td>0.002047</td>\n",
       "      <td>0.000564</td>\n",
       "      <td>kd_tree</td>\n",
       "      <td>1</td>\n",
       "      <td>2</td>\n",
       "      <td>uniform</td>\n",
       "      <td>{'algorithm': 'kd_tree', 'n_neighbors': 1, 'p'...</td>\n",
       "      <td>0.791667</td>\n",
       "      <td>...</td>\n",
       "      <td>0.875</td>\n",
       "      <td>0.833333</td>\n",
       "      <td>0.958333</td>\n",
       "      <td>0.916667</td>\n",
       "      <td>0.875</td>\n",
       "      <td>0.833333</td>\n",
       "      <td>0.875000</td>\n",
       "      <td>0.875000</td>\n",
       "      <td>0.045644</td>\n",
       "      <td>13</td>\n",
       "    </tr>\n",
       "    <tr>\n",
       "      <th>11</th>\n",
       "      <td>0.000682</td>\n",
       "      <td>0.000157</td>\n",
       "      <td>0.001129</td>\n",
       "      <td>0.000343</td>\n",
       "      <td>kd_tree</td>\n",
       "      <td>1</td>\n",
       "      <td>2</td>\n",
       "      <td>distance</td>\n",
       "      <td>{'algorithm': 'kd_tree', 'n_neighbors': 1, 'p'...</td>\n",
       "      <td>0.791667</td>\n",
       "      <td>...</td>\n",
       "      <td>0.875</td>\n",
       "      <td>0.833333</td>\n",
       "      <td>0.958333</td>\n",
       "      <td>0.916667</td>\n",
       "      <td>0.875</td>\n",
       "      <td>0.833333</td>\n",
       "      <td>0.875000</td>\n",
       "      <td>0.875000</td>\n",
       "      <td>0.045644</td>\n",
       "      <td>13</td>\n",
       "    </tr>\n",
       "    <tr>\n",
       "      <th>12</th>\n",
       "      <td>0.000718</td>\n",
       "      <td>0.000229</td>\n",
       "      <td>0.002071</td>\n",
       "      <td>0.000594</td>\n",
       "      <td>kd_tree</td>\n",
       "      <td>5</td>\n",
       "      <td>1</td>\n",
       "      <td>uniform</td>\n",
       "      <td>{'algorithm': 'kd_tree', 'n_neighbors': 5, 'p'...</td>\n",
       "      <td>0.833333</td>\n",
       "      <td>...</td>\n",
       "      <td>0.875</td>\n",
       "      <td>0.875000</td>\n",
       "      <td>1.000000</td>\n",
       "      <td>0.916667</td>\n",
       "      <td>0.875</td>\n",
       "      <td>0.833333</td>\n",
       "      <td>0.958333</td>\n",
       "      <td>0.912500</td>\n",
       "      <td>0.060237</td>\n",
       "      <td>3</td>\n",
       "    </tr>\n",
       "    <tr>\n",
       "      <th>13</th>\n",
       "      <td>0.000694</td>\n",
       "      <td>0.000131</td>\n",
       "      <td>0.001160</td>\n",
       "      <td>0.000114</td>\n",
       "      <td>kd_tree</td>\n",
       "      <td>5</td>\n",
       "      <td>1</td>\n",
       "      <td>distance</td>\n",
       "      <td>{'algorithm': 'kd_tree', 'n_neighbors': 5, 'p'...</td>\n",
       "      <td>0.833333</td>\n",
       "      <td>...</td>\n",
       "      <td>0.875</td>\n",
       "      <td>0.875000</td>\n",
       "      <td>1.000000</td>\n",
       "      <td>0.875000</td>\n",
       "      <td>0.875</td>\n",
       "      <td>0.833333</td>\n",
       "      <td>0.916667</td>\n",
       "      <td>0.900000</td>\n",
       "      <td>0.056519</td>\n",
       "      <td>7</td>\n",
       "    </tr>\n",
       "    <tr>\n",
       "      <th>14</th>\n",
       "      <td>0.000675</td>\n",
       "      <td>0.000038</td>\n",
       "      <td>0.001945</td>\n",
       "      <td>0.000211</td>\n",
       "      <td>kd_tree</td>\n",
       "      <td>5</td>\n",
       "      <td>2</td>\n",
       "      <td>uniform</td>\n",
       "      <td>{'algorithm': 'kd_tree', 'n_neighbors': 5, 'p'...</td>\n",
       "      <td>0.875000</td>\n",
       "      <td>...</td>\n",
       "      <td>0.875</td>\n",
       "      <td>0.875000</td>\n",
       "      <td>1.000000</td>\n",
       "      <td>0.916667</td>\n",
       "      <td>0.875</td>\n",
       "      <td>0.833333</td>\n",
       "      <td>0.958333</td>\n",
       "      <td>0.916667</td>\n",
       "      <td>0.055902</td>\n",
       "      <td>1</td>\n",
       "    </tr>\n",
       "    <tr>\n",
       "      <th>15</th>\n",
       "      <td>0.000690</td>\n",
       "      <td>0.000114</td>\n",
       "      <td>0.001124</td>\n",
       "      <td>0.000155</td>\n",
       "      <td>kd_tree</td>\n",
       "      <td>5</td>\n",
       "      <td>2</td>\n",
       "      <td>distance</td>\n",
       "      <td>{'algorithm': 'kd_tree', 'n_neighbors': 5, 'p'...</td>\n",
       "      <td>0.875000</td>\n",
       "      <td>...</td>\n",
       "      <td>0.875</td>\n",
       "      <td>0.875000</td>\n",
       "      <td>1.000000</td>\n",
       "      <td>0.916667</td>\n",
       "      <td>0.875</td>\n",
       "      <td>0.833333</td>\n",
       "      <td>0.916667</td>\n",
       "      <td>0.908333</td>\n",
       "      <td>0.052042</td>\n",
       "      <td>5</td>\n",
       "    </tr>\n",
       "  </tbody>\n",
       "</table>\n",
       "<p>16 rows × 22 columns</p>\n",
       "</div>"
      ],
      "text/plain": [
       "    mean_fit_time  std_fit_time  mean_score_time  std_score_time  \\\n",
       "0        0.001110      0.001123         0.002760        0.002866   \n",
       "1        0.000541      0.000095         0.000935        0.000227   \n",
       "2        0.000647      0.000190         0.002069        0.000409   \n",
       "3        0.000553      0.000079         0.001221        0.000518   \n",
       "4        0.000714      0.000311         0.001863        0.000317   \n",
       "5        0.000635      0.000227         0.001051        0.000155   \n",
       "6        0.000772      0.000307         0.003414        0.002629   \n",
       "7        0.001527      0.000818         0.003195        0.001831   \n",
       "8        0.000767      0.000242         0.001878        0.000243   \n",
       "9        0.000623      0.000081         0.001128        0.000149   \n",
       "10       0.000763      0.000234         0.002047        0.000564   \n",
       "11       0.000682      0.000157         0.001129        0.000343   \n",
       "12       0.000718      0.000229         0.002071        0.000594   \n",
       "13       0.000694      0.000131         0.001160        0.000114   \n",
       "14       0.000675      0.000038         0.001945        0.000211   \n",
       "15       0.000690      0.000114         0.001124        0.000155   \n",
       "\n",
       "   param_algorithm param_n_neighbors param_p param_weights  \\\n",
       "0            brute                 1       1       uniform   \n",
       "1            brute                 1       1      distance   \n",
       "2            brute                 1       2       uniform   \n",
       "3            brute                 1       2      distance   \n",
       "4            brute                 5       1       uniform   \n",
       "5            brute                 5       1      distance   \n",
       "6            brute                 5       2       uniform   \n",
       "7            brute                 5       2      distance   \n",
       "8          kd_tree                 1       1       uniform   \n",
       "9          kd_tree                 1       1      distance   \n",
       "10         kd_tree                 1       2       uniform   \n",
       "11         kd_tree                 1       2      distance   \n",
       "12         kd_tree                 5       1       uniform   \n",
       "13         kd_tree                 5       1      distance   \n",
       "14         kd_tree                 5       2       uniform   \n",
       "15         kd_tree                 5       2      distance   \n",
       "\n",
       "                                               params  split0_test_score  ...  \\\n",
       "0   {'algorithm': 'brute', 'n_neighbors': 1, 'p': ...           0.916667  ...   \n",
       "1   {'algorithm': 'brute', 'n_neighbors': 1, 'p': ...           0.916667  ...   \n",
       "2   {'algorithm': 'brute', 'n_neighbors': 1, 'p': ...           0.791667  ...   \n",
       "3   {'algorithm': 'brute', 'n_neighbors': 1, 'p': ...           0.791667  ...   \n",
       "4   {'algorithm': 'brute', 'n_neighbors': 5, 'p': ...           0.833333  ...   \n",
       "5   {'algorithm': 'brute', 'n_neighbors': 5, 'p': ...           0.833333  ...   \n",
       "6   {'algorithm': 'brute', 'n_neighbors': 5, 'p': ...           0.875000  ...   \n",
       "7   {'algorithm': 'brute', 'n_neighbors': 5, 'p': ...           0.875000  ...   \n",
       "8   {'algorithm': 'kd_tree', 'n_neighbors': 1, 'p'...           0.916667  ...   \n",
       "9   {'algorithm': 'kd_tree', 'n_neighbors': 1, 'p'...           0.916667  ...   \n",
       "10  {'algorithm': 'kd_tree', 'n_neighbors': 1, 'p'...           0.791667  ...   \n",
       "11  {'algorithm': 'kd_tree', 'n_neighbors': 1, 'p'...           0.791667  ...   \n",
       "12  {'algorithm': 'kd_tree', 'n_neighbors': 5, 'p'...           0.833333  ...   \n",
       "13  {'algorithm': 'kd_tree', 'n_neighbors': 5, 'p'...           0.833333  ...   \n",
       "14  {'algorithm': 'kd_tree', 'n_neighbors': 5, 'p'...           0.875000  ...   \n",
       "15  {'algorithm': 'kd_tree', 'n_neighbors': 5, 'p'...           0.875000  ...   \n",
       "\n",
       "    split3_test_score  split4_test_score  split5_test_score  \\\n",
       "0               0.875           0.833333           0.958333   \n",
       "1               0.875           0.833333           0.958333   \n",
       "2               0.875           0.833333           0.958333   \n",
       "3               0.875           0.833333           0.958333   \n",
       "4               0.875           0.875000           1.000000   \n",
       "5               0.875           0.875000           1.000000   \n",
       "6               0.875           0.875000           1.000000   \n",
       "7               0.875           0.875000           1.000000   \n",
       "8               0.875           0.833333           0.958333   \n",
       "9               0.875           0.833333           0.958333   \n",
       "10              0.875           0.833333           0.958333   \n",
       "11              0.875           0.833333           0.958333   \n",
       "12              0.875           0.875000           1.000000   \n",
       "13              0.875           0.875000           1.000000   \n",
       "14              0.875           0.875000           1.000000   \n",
       "15              0.875           0.875000           1.000000   \n",
       "\n",
       "    split6_test_score  split7_test_score  split8_test_score  \\\n",
       "0            0.916667              0.875           0.833333   \n",
       "1            0.916667              0.875           0.833333   \n",
       "2            0.916667              0.875           0.833333   \n",
       "3            0.916667              0.875           0.833333   \n",
       "4            0.916667              0.875           0.833333   \n",
       "5            0.875000              0.875           0.833333   \n",
       "6            0.916667              0.875           0.833333   \n",
       "7            0.916667              0.875           0.833333   \n",
       "8            0.916667              0.875           0.833333   \n",
       "9            0.916667              0.875           0.833333   \n",
       "10           0.916667              0.875           0.833333   \n",
       "11           0.916667              0.875           0.833333   \n",
       "12           0.916667              0.875           0.833333   \n",
       "13           0.875000              0.875           0.833333   \n",
       "14           0.916667              0.875           0.833333   \n",
       "15           0.916667              0.875           0.833333   \n",
       "\n",
       "    split9_test_score  mean_test_score  std_test_score  rank_test_score  \n",
       "0            0.875000         0.883333        0.052042                9  \n",
       "1            0.875000         0.883333        0.052042                9  \n",
       "2            0.875000         0.875000        0.045644               13  \n",
       "3            0.875000         0.875000        0.045644               13  \n",
       "4            0.958333         0.912500        0.060237                3  \n",
       "5            0.916667         0.900000        0.056519                7  \n",
       "6            0.958333         0.916667        0.055902                1  \n",
       "7            0.916667         0.908333        0.052042                5  \n",
       "8            0.875000         0.883333        0.052042                9  \n",
       "9            0.875000         0.883333        0.052042                9  \n",
       "10           0.875000         0.875000        0.045644               13  \n",
       "11           0.875000         0.875000        0.045644               13  \n",
       "12           0.958333         0.912500        0.060237                3  \n",
       "13           0.916667         0.900000        0.056519                7  \n",
       "14           0.958333         0.916667        0.055902                1  \n",
       "15           0.916667         0.908333        0.052042                5  \n",
       "\n",
       "[16 rows x 22 columns]"
      ]
     },
     "execution_count": 535,
     "metadata": {},
     "output_type": "execute_result"
    }
   ],
   "source": [
    "grid_knn_results = pd.DataFrame (grid_knn.cv_results_)\n",
    "grid_knn_results"
   ]
  },
  {
   "cell_type": "code",
   "execution_count": 536,
   "metadata": {},
   "outputs": [
    {
     "data": {
      "text/plain": [
       "KNeighborsClassifier(algorithm='brute')"
      ]
     },
     "execution_count": 536,
     "metadata": {},
     "output_type": "execute_result"
    }
   ],
   "source": [
    "best_knn = grid_knn.best_estimator_\n",
    "best_knn"
   ]
  },
  {
   "cell_type": "code",
   "execution_count": 537,
   "metadata": {
    "scrolled": true
   },
   "outputs": [
    {
     "name": "stdout",
     "output_type": "stream",
     "text": [
      "Best mean score (accuracy) obtained in the grid search:  0.9166666666666667\n"
     ]
    }
   ],
   "source": [
    "print('Best mean score (accuracy) obtained in the grid search: ', grid_knn.best_score_)"
   ]
  },
  {
   "cell_type": "markdown",
   "metadata": {},
   "source": [
    "### Apartado c)"
   ]
  },
  {
   "cell_type": "code",
   "execution_count": 538,
   "metadata": {},
   "outputs": [
    {
     "data": {
      "image/png": "[encoded data removed]",
      "text/plain": [
       "<Figure size 432x288 with 1 Axes>"
      ]
     },
     "metadata": {
      "needs_background": "light"
     },
     "output_type": "display_data"
    }
   ],
   "source": [
    "cmap_light = ListedColormap(['orange', 'cyan'])\n",
    "\n",
    "xx = np.linspace(0, 1, num = 30)\n",
    "yy = np.linspace(0, 1, num = 30)\n",
    "YY, XX = np.meshgrid(yy, xx)\n",
    "\n",
    "Z = grid_knn.predict(np.c_[XX.ravel(), YY.ravel()])\n",
    "\n",
    "Z = Z.reshape(XX.shape) \n",
    "\n",
    "plt.figure()\n",
    "ax = plt.gca()\n",
    "ax.contourf(XX,YY,Z, cmap = cmap_light)\n",
    "plt.scatter(X_train_norm[y_train==1,0], X_train_norm[y_train==1,1], c='g', marker='x', label = '1')\n",
    "plt.scatter(X_train_norm[y_train==0,0], X_train_norm[y_train==0,1], c='r', marker='x', label = '0')\n",
    "plt.xlabel('x1')\n",
    "plt.ylabel('x2')\n",
    "plt.axis('equal')\n",
    "plt.title('Classification map: 5NN, brute force and Euclidean distance')\n",
    "plt.legend()\n",
    "plt.show(block=False) "
   ]
  },
  {
   "cell_type": "markdown",
   "metadata": {},
   "source": [
    "### Apartado d)"
   ]
  },
  {
   "cell_type": "markdown",
   "metadata": {},
   "source": [
    "#### 1"
   ]
  },
  {
   "cell_type": "code",
   "execution_count": 539,
   "metadata": {},
   "outputs": [],
   "source": [
    "X_test_norm = normalization(X_test)"
   ]
  },
  {
   "cell_type": "code",
   "execution_count": 540,
   "metadata": {},
   "outputs": [],
   "source": [
    "y_predict = grid_knn.predict(X_test_norm)"
   ]
  },
  {
   "cell_type": "code",
   "execution_count": 541,
   "metadata": {
    "scrolled": false
   },
   "outputs": [
    {
     "name": "stdout",
     "output_type": "stream",
     "text": [
      "Accuracy:  0.9166666666666666 \n",
      " Precision:  0.8518518518518519 \n",
      " Recall:  0.9583333333333334 \n",
      " F1:  0.9019607843137256\n"
     ]
    }
   ],
   "source": [
    "accuracy = best_knn.score(X_test_norm, y_test)\n",
    "precision = metrics.precision_score(y_test, y_predict)\n",
    "recall = metrics.recall_score(y_test, y_predict)\n",
    "f1 = metrics.f1_score(y_test,y_predict)\n",
    "\n",
    "print ('Accuracy: ', accuracy, '\\n',\n",
    "       'Precision: ', precision,'\\n',\n",
    "      'Recall: ', recall, '\\n', \n",
    "      'F1: ', f1)"
   ]
  },
  {
   "cell_type": "markdown",
   "metadata": {},
   "source": [
    "#### 2"
   ]
  },
  {
   "cell_type": "code",
   "execution_count": 542,
   "metadata": {},
   "outputs": [
    {
     "data": {
      "image/png": "[encoded data removed]",
      "text/plain": [
       "<Figure size 432x288 with 1 Axes>"
      ]
     },
     "metadata": {
      "needs_background": "light"
     },
     "output_type": "display_data"
    }
   ],
   "source": [
    "plt.figure()\n",
    "ax = plt.gca()\n",
    "ax.contourf(XX,YY,Z, cmap = cmap_light)\n",
    "plt.scatter(X_test_norm[y_test==1,0], X_test_norm[y_test==1,1], c='g', marker='x', label = '1')\n",
    "plt.scatter(X_test_norm[y_test==0,0], X_test_norm[y_test==0,1], c='r', marker='x', label = '0')\n",
    "plt.xlabel('x1')\n",
    "plt.ylabel('x2')\n",
    "plt.axis('equal')\n",
    "plt.title('Test samples over classification map: 5NN, brute force and Euclidean distance')\n",
    "plt.legend()\n",
    "plt.show(block=False) "
   ]
  },
  {
   "cell_type": "markdown",
   "metadata": {},
   "source": [
    "### Apartado e)"
   ]
  },
  {
   "cell_type": "code",
   "execution_count": 543,
   "metadata": {},
   "outputs": [],
   "source": [
    "X_norm = np.concatenate((X_train_norm, X_test_norm))\n",
    "y = np.concatenate((y_train,y_test))"
   ]
  },
  {
   "cell_type": "code",
   "execution_count": 544,
   "metadata": {},
   "outputs": [],
   "source": [
    "metrics = ['accuracy', 'precision', 'recall']\n",
    "scores = cross_validate(best_knn, X_norm, y, scoring = metrics)"
   ]
  },
  {
   "cell_type": "code",
   "execution_count": 545,
   "metadata": {},
   "outputs": [
    {
     "data": {
      "text/html": [
       "<div>\n",
       "<style scoped>\n",
       "    .dataframe tbody tr th:only-of-type {\n",
       "        vertical-align: middle;\n",
       "    }\n",
       "\n",
       "    .dataframe tbody tr th {\n",
       "        vertical-align: top;\n",
       "    }\n",
       "\n",
       "    .dataframe thead th {\n",
       "        text-align: right;\n",
       "    }\n",
       "</style>\n",
       "<table border=\"1\" class=\"dataframe\">\n",
       "  <thead>\n",
       "    <tr style=\"text-align: right;\">\n",
       "      <th></th>\n",
       "      <th>fit_time</th>\n",
       "      <th>score_time</th>\n",
       "      <th>test_accuracy</th>\n",
       "      <th>test_precision</th>\n",
       "      <th>test_recall</th>\n",
       "    </tr>\n",
       "  </thead>\n",
       "  <tbody>\n",
       "    <tr>\n",
       "      <th>0</th>\n",
       "      <td>0.004258</td>\n",
       "      <td>0.009386</td>\n",
       "      <td>0.916667</td>\n",
       "      <td>0.931034</td>\n",
       "      <td>0.900000</td>\n",
       "    </tr>\n",
       "    <tr>\n",
       "      <th>1</th>\n",
       "      <td>0.000732</td>\n",
       "      <td>0.004758</td>\n",
       "      <td>0.916667</td>\n",
       "      <td>0.903226</td>\n",
       "      <td>0.933333</td>\n",
       "    </tr>\n",
       "    <tr>\n",
       "      <th>2</th>\n",
       "      <td>0.000750</td>\n",
       "      <td>0.004976</td>\n",
       "      <td>0.966667</td>\n",
       "      <td>0.937500</td>\n",
       "      <td>1.000000</td>\n",
       "    </tr>\n",
       "    <tr>\n",
       "      <th>3</th>\n",
       "      <td>0.000494</td>\n",
       "      <td>0.005348</td>\n",
       "      <td>0.866667</td>\n",
       "      <td>0.892857</td>\n",
       "      <td>0.833333</td>\n",
       "    </tr>\n",
       "    <tr>\n",
       "      <th>4</th>\n",
       "      <td>0.000552</td>\n",
       "      <td>0.005680</td>\n",
       "      <td>0.933333</td>\n",
       "      <td>0.906250</td>\n",
       "      <td>0.966667</td>\n",
       "    </tr>\n",
       "  </tbody>\n",
       "</table>\n",
       "</div>"
      ],
      "text/plain": [
       "   fit_time  score_time  test_accuracy  test_precision  test_recall\n",
       "0  0.004258    0.009386       0.916667        0.931034     0.900000\n",
       "1  0.000732    0.004758       0.916667        0.903226     0.933333\n",
       "2  0.000750    0.004976       0.966667        0.937500     1.000000\n",
       "3  0.000494    0.005348       0.866667        0.892857     0.833333\n",
       "4  0.000552    0.005680       0.933333        0.906250     0.966667"
      ]
     },
     "execution_count": 545,
     "metadata": {},
     "output_type": "execute_result"
    }
   ],
   "source": [
    "scores_df = pd.DataFrame(scores)\n",
    "scores_df"
   ]
  }
 ],
 "metadata": {
  "kernelspec": {
   "display_name": "Python (aprendizaje_automatico)",
   "language": "python",
   "name": "aprendizaje_automatico"
  },
  "language_info": {
   "codemirror_mode": {
    "name": "ipython",
    "version": 3
   },
   "file_extension": ".py",
   "mimetype": "text/x-python",
   "name": "python",
   "nbconvert_exporter": "python",
   "pygments_lexer": "ipython3",
   "version": "3.8.5"
  }
 },
 "nbformat": 4,
 "nbformat_minor": 4
}
